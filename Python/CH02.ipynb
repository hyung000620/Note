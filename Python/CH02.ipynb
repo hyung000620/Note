{
 "cells": [
  {
   "cell_type": "code",
   "execution_count": 2,
   "id": "a2b9bc36",
   "metadata": {},
   "outputs": [
    {
     "name": "stdout",
     "output_type": "stream",
     "text": [
      "Hello, World\n"
     ]
    }
   ],
   "source": [
    "print('Hello, World') #/Hello, World : 문자열 => 앞뒤에 쌍(홀) 쓰인다."
   ]
  },
  {
   "cell_type": "code",
   "execution_count": null,
   "id": "10175b78",
   "metadata": {},
   "outputs": [],
   "source": []
  }
 ],
 "metadata": {
  "kernelspec": {
   "display_name": "Python 3 (ipykernel)",
   "language": "python",
   "name": "python3"
  },
  "language_info": {
   "codemirror_mode": {
    "name": "ipython",
    "version": 3
   },
   "file_extension": ".py",
   "mimetype": "text/x-python",
   "name": "python",
   "nbconvert_exporter": "python",
   "pygments_lexer": "ipython3",
   "version": "3.9.7"
  }
 },
 "nbformat": 4,
 "nbformat_minor": 5
}
